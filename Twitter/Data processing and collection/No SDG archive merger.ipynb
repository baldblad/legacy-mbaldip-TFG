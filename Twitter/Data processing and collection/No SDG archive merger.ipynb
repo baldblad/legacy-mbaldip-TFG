{
 "cells": [
  {
   "cell_type": "markdown",
   "metadata": {},
   "source": [
    "## No SDG archive merger\n",
    "This code is meant to merge the data files that contain tweets sampled from 6 random datetimes since 2016 during 5 minutes each. The tweets have been collected under the condition of not matching any SDG-related tag and being in english. The datetimes are the following (YYYY-MM-DD hh:mm):\\\n",
    "2016-04-06 00:00\\\n",
    "2017-07-23 14:00\\\n",
    "2018-09-30 21:00\\\n",
    "2019-11-02 07:00\\\n",
    "2020-02-10 18:00\\\n",
    "2021-08-03 11:00"
   ]
  },
  {
   "cell_type": "code",
   "execution_count": 2,
   "metadata": {},
   "outputs": [],
   "source": [
    "# IMPORTS\n",
    "import pandas as pd\n",
    "import csv"
   ]
  },
  {
   "cell_type": "code",
   "execution_count": 3,
   "metadata": {},
   "outputs": [],
   "source": [
    "# read all five files and concatenate them all in one single dataframe\n",
    "df_enAll = pd.concat([pd.read_csv('./Raw data/NoRelevant_en'+str(x+1)+'.csv') for x in range(6)])"
   ]
  },
  {
   "cell_type": "code",
   "execution_count": 5,
   "metadata": {},
   "outputs": [
    {
     "name": "stdout",
     "output_type": "stream",
     "text": [
      "<class 'pandas.core.frame.DataFrame'>\n",
      "Int64Index: 845071 entries, 0 to 147485\n",
      "Data columns (total 3 columns):\n",
      " #   Column      Non-Null Count   Dtype \n",
      "---  ------      --------------   ----- \n",
      " 0   id          845071 non-null  int64 \n",
      " 1   created_at  845071 non-null  object\n",
      " 2   text        845071 non-null  object\n",
      "dtypes: int64(1), object(2)\n",
      "memory usage: 25.8+ MB\n"
     ]
    },
    {
     "data": {
      "text/html": [
       "<div>\n",
       "<style scoped>\n",
       "    .dataframe tbody tr th:only-of-type {\n",
       "        vertical-align: middle;\n",
       "    }\n",
       "\n",
       "    .dataframe tbody tr th {\n",
       "        vertical-align: top;\n",
       "    }\n",
       "\n",
       "    .dataframe thead th {\n",
       "        text-align: right;\n",
       "    }\n",
       "</style>\n",
       "<table border=\"1\" class=\"dataframe\">\n",
       "  <thead>\n",
       "    <tr style=\"text-align: right;\">\n",
       "      <th></th>\n",
       "      <th>id</th>\n",
       "      <th>created_at</th>\n",
       "      <th>text</th>\n",
       "    </tr>\n",
       "  </thead>\n",
       "  <tbody>\n",
       "    <tr>\n",
       "      <th>0</th>\n",
       "      <td>717503333775319040</td>\n",
       "      <td>2016-04-06T00:04:59.000Z</td>\n",
       "      <td>@mydickisbae finally 👏👏😂</td>\n",
       "    </tr>\n",
       "    <tr>\n",
       "      <th>1</th>\n",
       "      <td>717503333758468097</td>\n",
       "      <td>2016-04-06T00:04:59.000Z</td>\n",
       "      <td>@TheTyee Thanks!</td>\n",
       "    </tr>\n",
       "    <tr>\n",
       "      <th>2</th>\n",
       "      <td>717503333758447616</td>\n",
       "      <td>2016-04-06T00:04:59.000Z</td>\n",
       "      <td>Smokin this blunt so ion do no stupid shit</td>\n",
       "    </tr>\n",
       "    <tr>\n",
       "      <th>3</th>\n",
       "      <td>717503333758423041</td>\n",
       "      <td>2016-04-06T00:04:59.000Z</td>\n",
       "      <td>@__clovely hml we need to burn it soon 💕</td>\n",
       "    </tr>\n",
       "    <tr>\n",
       "      <th>4</th>\n",
       "      <td>717503333754273792</td>\n",
       "      <td>2016-04-06T00:04:59.000Z</td>\n",
       "      <td>Dasar attention seeker. 👊👊👊</td>\n",
       "    </tr>\n",
       "  </tbody>\n",
       "</table>\n",
       "</div>"
      ],
      "text/plain": [
       "                   id                created_at  \\\n",
       "0  717503333775319040  2016-04-06T00:04:59.000Z   \n",
       "1  717503333758468097  2016-04-06T00:04:59.000Z   \n",
       "2  717503333758447616  2016-04-06T00:04:59.000Z   \n",
       "3  717503333758423041  2016-04-06T00:04:59.000Z   \n",
       "4  717503333754273792  2016-04-06T00:04:59.000Z   \n",
       "\n",
       "                                         text  \n",
       "0                    @mydickisbae finally 👏👏😂  \n",
       "1                            @TheTyee Thanks!  \n",
       "2  Smokin this blunt so ion do no stupid shit  \n",
       "3    @__clovely hml we need to burn it soon 💕  \n",
       "4                 Dasar attention seeker. 👊👊👊  "
      ]
     },
     "metadata": {},
     "output_type": "display_data"
    }
   ],
   "source": [
    "df_enAll = df_enAll[['id','created_at','text']] # Pick only the attributes with information\n",
    "df_enAll.info()\n",
    "display(df_enAll.head())"
   ]
  },
  {
   "cell_type": "code",
   "execution_count": 7,
   "metadata": {},
   "outputs": [
    {
     "name": "stdout",
     "output_type": "stream",
     "text": [
      "843607\n",
      "845071\n"
     ]
    }
   ],
   "source": [
    "# Check that there are no duplicates (All tweet id should be unique)\n",
    "print(df_enAll['id'].nunique()) # unique tweet ids\n",
    "print(len(df_enAll)) #total number of rows"
   ]
  },
  {
   "cell_type": "code",
   "execution_count": 9,
   "metadata": {},
   "outputs": [
    {
     "name": "stdout",
     "output_type": "stream",
     "text": [
      "843607\n",
      "843607\n"
     ]
    }
   ],
   "source": [
    "# Remove duplicates using tweet id\n",
    "df_enAll.drop_duplicates(subset=['id'], inplace=True)\n",
    "print(df_enAll['id'].nunique())\n",
    "print(len(df_enAll))"
   ]
  },
  {
   "cell_type": "code",
   "execution_count": 10,
   "metadata": {},
   "outputs": [
    {
     "data": {
      "text/html": [
       "<div>\n",
       "<style scoped>\n",
       "    .dataframe tbody tr th:only-of-type {\n",
       "        vertical-align: middle;\n",
       "    }\n",
       "\n",
       "    .dataframe tbody tr th {\n",
       "        vertical-align: top;\n",
       "    }\n",
       "\n",
       "    .dataframe thead th {\n",
       "        text-align: right;\n",
       "    }\n",
       "</style>\n",
       "<table border=\"1\" class=\"dataframe\">\n",
       "  <thead>\n",
       "    <tr style=\"text-align: right;\">\n",
       "      <th></th>\n",
       "      <th>id</th>\n",
       "      <th>created_at</th>\n",
       "      <th>text</th>\n",
       "    </tr>\n",
       "  </thead>\n",
       "  <tbody>\n",
       "    <tr>\n",
       "      <th>0</th>\n",
       "      <td>717502078546014208</td>\n",
       "      <td>2016-04-06T00:00:00.000Z</td>\n",
       "      <td>Ayy lmao HE CAN HANDSTAND, WHEN HE HAS NO GRAC...</td>\n",
       "    </tr>\n",
       "    <tr>\n",
       "      <th>1</th>\n",
       "      <td>717502078327853056</td>\n",
       "      <td>2016-04-06T00:00:00.000Z</td>\n",
       "      <td>.@RchrdAlln suggests Kingston Mills Locks. Wev...</td>\n",
       "    </tr>\n",
       "    <tr>\n",
       "      <th>2</th>\n",
       "      <td>717502078331985920</td>\n",
       "      <td>2016-04-06T00:00:00.000Z</td>\n",
       "      <td>@likeold2's account is temporarily unavailable...</td>\n",
       "    </tr>\n",
       "    <tr>\n",
       "      <th>3</th>\n",
       "      <td>717502078336180224</td>\n",
       "      <td>2016-04-06T00:00:00.000Z</td>\n",
       "      <td>Wind 3.0 mph SSE. Barometer 30.237 in, Falling...</td>\n",
       "    </tr>\n",
       "    <tr>\n",
       "      <th>4</th>\n",
       "      <td>717502078340431872</td>\n",
       "      <td>2016-04-06T00:00:00.000Z</td>\n",
       "      <td>I've completed the daily quest in Paradise Isl...</td>\n",
       "    </tr>\n",
       "  </tbody>\n",
       "</table>\n",
       "</div>"
      ],
      "text/plain": [
       "                   id                created_at  \\\n",
       "0  717502078546014208  2016-04-06T00:00:00.000Z   \n",
       "1  717502078327853056  2016-04-06T00:00:00.000Z   \n",
       "2  717502078331985920  2016-04-06T00:00:00.000Z   \n",
       "3  717502078336180224  2016-04-06T00:00:00.000Z   \n",
       "4  717502078340431872  2016-04-06T00:00:00.000Z   \n",
       "\n",
       "                                                text  \n",
       "0  Ayy lmao HE CAN HANDSTAND, WHEN HE HAS NO GRAC...  \n",
       "1  .@RchrdAlln suggests Kingston Mills Locks. Wev...  \n",
       "2  @likeold2's account is temporarily unavailable...  \n",
       "3  Wind 3.0 mph SSE. Barometer 30.237 in, Falling...  \n",
       "4  I've completed the daily quest in Paradise Isl...  "
      ]
     },
     "metadata": {},
     "output_type": "display_data"
    },
    {
     "data": {
      "text/html": [
       "<div>\n",
       "<style scoped>\n",
       "    .dataframe tbody tr th:only-of-type {\n",
       "        vertical-align: middle;\n",
       "    }\n",
       "\n",
       "    .dataframe tbody tr th {\n",
       "        vertical-align: top;\n",
       "    }\n",
       "\n",
       "    .dataframe thead th {\n",
       "        text-align: right;\n",
       "    }\n",
       "</style>\n",
       "<table border=\"1\" class=\"dataframe\">\n",
       "  <thead>\n",
       "    <tr style=\"text-align: right;\">\n",
       "      <th></th>\n",
       "      <th>id</th>\n",
       "      <th>created_at</th>\n",
       "      <th>text</th>\n",
       "    </tr>\n",
       "  </thead>\n",
       "  <tbody>\n",
       "    <tr>\n",
       "      <th>843602</th>\n",
       "      <td>1422513823999614979</td>\n",
       "      <td>2021-08-03T11:04:59.000Z</td>\n",
       "      <td>@Sentry023 Haha I know and I like Rubio a lot....</td>\n",
       "    </tr>\n",
       "    <tr>\n",
       "      <th>843603</th>\n",
       "      <td>1422513823978639362</td>\n",
       "      <td>2021-08-03T11:04:59.000Z</td>\n",
       "      <td>@troytrade To the moon</td>\n",
       "    </tr>\n",
       "    <tr>\n",
       "      <th>843604</th>\n",
       "      <td>1422513823966277632</td>\n",
       "      <td>2021-08-03T11:04:59.000Z</td>\n",
       "      <td>@PinsTrading REST</td>\n",
       "    </tr>\n",
       "    <tr>\n",
       "      <th>843605</th>\n",
       "      <td>1422513823966171136</td>\n",
       "      <td>2021-08-03T11:04:59.000Z</td>\n",
       "      <td>I recommend that all scientists and academics ...</td>\n",
       "    </tr>\n",
       "    <tr>\n",
       "      <th>843606</th>\n",
       "      <td>1422513823731359754</td>\n",
       "      <td>2021-08-03T11:04:59.000Z</td>\n",
       "      <td>new morning routine is wake up, queue for spli...</td>\n",
       "    </tr>\n",
       "  </tbody>\n",
       "</table>\n",
       "</div>"
      ],
      "text/plain": [
       "                         id                created_at  \\\n",
       "843602  1422513823999614979  2021-08-03T11:04:59.000Z   \n",
       "843603  1422513823978639362  2021-08-03T11:04:59.000Z   \n",
       "843604  1422513823966277632  2021-08-03T11:04:59.000Z   \n",
       "843605  1422513823966171136  2021-08-03T11:04:59.000Z   \n",
       "843606  1422513823731359754  2021-08-03T11:04:59.000Z   \n",
       "\n",
       "                                                     text  \n",
       "843602  @Sentry023 Haha I know and I like Rubio a lot....  \n",
       "843603                             @troytrade To the moon  \n",
       "843604                                  @PinsTrading REST  \n",
       "843605  I recommend that all scientists and academics ...  \n",
       "843606  new morning routine is wake up, queue for spli...  "
      ]
     },
     "metadata": {},
     "output_type": "display_data"
    }
   ],
   "source": [
    "#Sort by date and reset index\n",
    "df_enAll = df_enAll.sort_values(by=['created_at'])\n",
    "df_enAll.reset_index(drop=True, inplace=True)\n",
    "display(df_enAll.head())\n",
    "display(df_enAll.tail())"
   ]
  },
  {
   "cell_type": "code",
   "execution_count": 11,
   "metadata": {},
   "outputs": [],
   "source": [
    "# Save the merged dataset\n",
    "df_enAll.to_csv('NoRelevant_enAll.csv', index=False)"
   ]
  },
  {
   "cell_type": "code",
   "execution_count": null,
   "metadata": {},
   "outputs": [],
   "source": []
  }
 ],
 "metadata": {
  "kernelspec": {
   "display_name": "Python 3",
   "language": "python",
   "name": "python3"
  },
  "language_info": {
   "codemirror_mode": {
    "name": "ipython",
    "version": 3
   },
   "file_extension": ".py",
   "mimetype": "text/x-python",
   "name": "python",
   "nbconvert_exporter": "python",
   "pygments_lexer": "ipython3",
   "version": "3.8.10"
  }
 },
 "nbformat": 4,
 "nbformat_minor": 4
}
